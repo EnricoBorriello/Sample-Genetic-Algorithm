{
 "cells": [
  {
   "cell_type": "markdown",
   "id": "9687e1f2-79f0-4706-a60f-06b14ddc3801",
   "metadata": {},
   "source": [
    "# Sample Genetic Algorithm\n",
    "\n",
    "*Enrico Borriello* - Didactic material prepared for **CAS 522 - Dynamical Systems**\n",
    "\n",
    "---\n",
    "\n",
    "This example demonstrates a simple Genetic Algorithm (GA) to evolve a string (candidate solution) to match a target phrase. It starts with a random population of candidate strings and evolves them toward a target phrase. Each generation, the best candidates are selected, combined (crossover), and slightly altered (mutation). Over time, the population converges toward the target, illustrating how evolutionary algorithms solve optimization problems through variation, selection, and inheritance."
   ]
  },
  {
   "cell_type": "code",
   "execution_count": 7,
   "id": "83a13202-b445-4d8f-9d13-f478636396cf",
   "metadata": {},
   "outputs": [],
   "source": [
    "import random\n",
    "import string"
   ]
  },
  {
   "cell_type": "markdown",
   "id": "271b30ea-60a1-4a20-abcd-d6402a53abdb",
   "metadata": {},
   "source": [
    "## Set parameters\n",
    "\n",
    "- TARGET — the sentence you want the algorithm to produce.\n",
    "- POP_SIZE — how many candidate sentences exist each generation (bigger = more diversity, slower).\n",
    "- MUTATION_RATE — chance a character will randomly change (too high = chaos, too low = slow exploration).\n",
    "- GENERATIONS — the maximum number of rounds to run."
   ]
  },
  {
   "cell_type": "code",
   "execution_count": 19,
   "id": "5eca7115-f9f0-4782-a2f3-3e1ba7310bd9",
   "metadata": {},
   "outputs": [],
   "source": [
    "# Parameters\n",
    "TARGET = \"HELLO WORLD\"\n",
    "POP_SIZE = 200\n",
    "MUTATION_RATE = 0.01\n",
    "GENERATIONS = 1000"
   ]
  },
  {
   "cell_type": "code",
   "execution_count": 20,
   "id": "0d1090b2-84ce-42f3-8a82-fdb917b63989",
   "metadata": {},
   "outputs": [],
   "source": [
    "# Helper Functions\n",
    "def random_string(length):\n",
    "    \"\"\"Generate a random string of given length.\"\"\"\n",
    "    return ''.join(random.choice(string.ascii_uppercase + \" \") for _ in range(length))\n",
    "\n",
    "def fitness(candidate):\n",
    "    \"\"\"Fitness = number of matching characters with the target.\"\"\"\n",
    "    return sum(c == t for c, t in zip(candidate, TARGET))\n",
    "\n",
    "def mutate(candidate):\n",
    "    \"\"\"Randomly change characters with a small probability.\"\"\"\n",
    "    new_chars = []\n",
    "    for c in candidate:\n",
    "        if random.random() < MUTATION_RATE:\n",
    "            new_chars.append(random.choice(string.ascii_uppercase + \" \"))\n",
    "        else:\n",
    "            new_chars.append(c)\n",
    "    return ''.join(new_chars)\n",
    "\n",
    "def crossover(parent1, parent2):\n",
    "    \"\"\"Single-point crossover between two parents.\"\"\"\n",
    "    point = random.randint(0, len(parent1) - 1)\n",
    "    return parent1[:point] + parent2[point:]"
   ]
  },
  {
   "cell_type": "markdown",
   "id": "91d58c96-523f-49b9-a1fa-4300f7ad2127",
   "metadata": {},
   "source": [
    "## Main Loop\n",
    "\n",
    "### 1. Create the initial population\n",
    "\n",
    "Make POP_SIZE random strings of the same length as TARGET. These are your starting “guesses.”"
   ]
  },
  {
   "cell_type": "code",
   "execution_count": 23,
   "id": "c77c9632-e1dd-4c4b-bff8-f5b4a9afae0c",
   "metadata": {},
   "outputs": [],
   "source": [
    "population = [random_string(len(TARGET)) for _ in range(POP_SIZE)]"
   ]
  },
  {
   "cell_type": "markdown",
   "id": "da55dae2-11b2-4206-9c30-b6de2957da3b",
   "metadata": {},
   "source": [
    "### 2. Evaluate fitness\n",
    "For each candidate string, compute a score: how many characters match the target in the correct positions. Higher score → better candidate.\n",
    "\n",
    "### 3. Selection\n",
    "Sort candidates by fitness and keep the top fraction (top 20% in this example).\n",
    "\n",
    "### 4. Crossover and new population\n",
    "\n",
    "- Pick two parents from the survivors. Choose a random cut point and join the front of parent A with the back of parent B. That produces a child that inherits parts of both parents.\n",
    "- For each character in the child, with probability **MUTATION_RATE** replace it with a random character. Mutation lets the algorithm try new characters that weren’t present in parents (exploration).\n",
    "- Repeat making children until you have **POP_SIZE** new candidates.\n",
    "- Replace the old population with this new one.\n",
    "\n",
    "### 5. Check stopping condition\n",
    "\n",
    "After each generation check if any candidate exactly equals **TARGET** (or check if fitness threshold or generation limit reached). If met → stop; otherwise go to step 2. Repeat."
   ]
  },
  {
   "cell_type": "code",
   "execution_count": 24,
   "id": "6c8e5a47-7511-4d6b-be8a-7c899d2a764f",
   "metadata": {},
   "outputs": [
    {
     "name": "stdout",
     "output_type": "stream",
     "text": [
      "Gen 0: BZLUOXSUNLP (fitness=3)\n",
      "Gen 1:  ELOZAGZUQD (fitness=3)\n",
      "Gen 2: IYLBOMIOYQD (fitness=4)\n",
      "Gen 3: IELKOMIOYQD (fitness=5)\n",
      "Gen 4: IELLOKJOYQD (fitness=6)\n",
      "Gen 5:  ELLOPLOYQD (fitness=6)\n",
      "Gen 6:  ELLOPJOYLD (fitness=7)\n",
      "Gen 7:  ELLOPJORLD (fitness=8)\n",
      "Gen 8:  ELLO IONLD (fitness=8)\n",
      "Gen 9:  ELLO IONLD (fitness=8)\n",
      "Gen 10: IELLO IORLD (fitness=9)\n",
      "Gen 11: IELLO IORLD (fitness=9)\n",
      "Gen 12: IELLO IORLD (fitness=9)\n",
      "Gen 13: HELLO JORLD (fitness=10)\n",
      "Gen 14: HELLO JORLD (fitness=10)\n",
      "Gen 15: HELLO JORLD (fitness=10)\n",
      "Gen 16: HELLO JORLD (fitness=10)\n",
      "Gen 17: HELLO IORLD (fitness=10)\n",
      "Gen 18: HELLO JORLD (fitness=10)\n",
      "Gen 19: HELLO IORLD (fitness=10)\n",
      "Gen 20: HELLO IORLD (fitness=10)\n",
      "Gen 21: HELLO IORLD (fitness=10)\n",
      "Gen 22: HELLO IORLD (fitness=10)\n",
      "Gen 23: HELLO IORLD (fitness=10)\n",
      "Gen 24: HELLO JORLD (fitness=10)\n",
      "Gen 25: HELLO JORLD (fitness=10)\n",
      "Gen 26: HELLO JORLD (fitness=10)\n",
      "Gen 27: HELLO IORLD (fitness=10)\n",
      "Gen 28: HELLO JORLD (fitness=10)\n",
      "Gen 29: HELLO JORLD (fitness=10)\n",
      "Gen 30: HELLO  ORLD (fitness=10)\n",
      "Gen 31: HELLO WORLD (fitness=11)\n",
      "Target reached!\n"
     ]
    }
   ],
   "source": [
    "for generation in range(GENERATIONS):\n",
    "    # Evaluate fitness\n",
    "    scored = [(candidate, fitness(candidate)) for candidate in population]\n",
    "    scored.sort(key=lambda x: x[1], reverse=True)\n",
    "    \n",
    "    # Print best result so far\n",
    "    best, best_fitness = scored[0]\n",
    "    print(f\"Gen {generation}: {best} (fitness={best_fitness})\")\n",
    "    \n",
    "    # Stop if perfect match\n",
    "    if best == TARGET:\n",
    "        print(\"Target reached!\")\n",
    "        break\n",
    "    \n",
    "    # Selection (top 20% survive)\n",
    "    survivors = [candidate for candidate, _ in scored[:POP_SIZE // 5]]\n",
    "    \n",
    "    # Reproduce new population\n",
    "    new_population = []\n",
    "    while len(new_population) < POP_SIZE:\n",
    "        parent1, parent2 = random.sample(survivors, 2)\n",
    "        child = crossover(parent1, parent2)\n",
    "        child = mutate(child)\n",
    "        new_population.append(child)\n",
    "    \n",
    "    population = new_population"
   ]
  },
  {
   "cell_type": "markdown",
   "id": "8b31c8f9-a590-411a-9bdd-24061c0d660a",
   "metadata": {},
   "source": [
    "## Outcome\n",
    "With each generation, selection favors better strings, crossover recombines their good bits, and mutation explores new possibilities, collectively nudging the population closer to the target. Eventually you often get the exact target or a very close string. But sometimes it gets stuck (premature convergence) or needs more time/parameters adjusted."
   ]
  }
 ],
 "metadata": {
  "kernelspec": {
   "display_name": "Python 3 (ipykernel)",
   "language": "python",
   "name": "python3"
  },
  "language_info": {
   "codemirror_mode": {
    "name": "ipython",
    "version": 3
   },
   "file_extension": ".py",
   "mimetype": "text/x-python",
   "name": "python",
   "nbconvert_exporter": "python",
   "pygments_lexer": "ipython3",
   "version": "3.9.5"
  }
 },
 "nbformat": 4,
 "nbformat_minor": 5
}
